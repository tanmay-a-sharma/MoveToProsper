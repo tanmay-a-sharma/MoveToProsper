{
 "cells": [
  {
   "cell_type": "code",
   "execution_count": 133,
   "metadata": {},
   "outputs": [
    {
     "name": "stdout",
     "output_type": "stream",
     "text": [
      "          PUMA  Predicted_ISRISKFACTOR\n",
      "0      Portage                4.943327\n",
      "1     Mahoning                4.623752\n",
      "2         Ross                4.470684\n",
      "3     Franklin                4.402311\n",
      "4       Athens                4.165501\n",
      "5       Scioto                4.141871\n",
      "6     Richland                4.079082\n",
      "7     Hamilton                3.915734\n",
      "8        Lucas                3.887028\n",
      "9       Lorain                3.867745\n",
      "10    Pickaway                3.823078\n",
      "11    Cuyahoga                3.785169\n",
      "12      Greene                3.758562\n",
      "13   Muskingum                3.730803\n",
      "14      Marion                3.467422\n",
      "15      Summit                3.411416\n",
      "16       Allen                3.216795\n",
      "17      Butler                3.141946\n",
      "18  Montgomery                3.140199\n",
      "19        Wood                2.791699\n",
      "20  Columbiana                2.709018\n",
      "21     Jackson                2.646705\n",
      "22     Licking                2.581171\n",
      "23       Clark                2.477780\n",
      "24       Stark                2.457502\n",
      "25     Belmont                2.387132\n",
      "26    Trumbull                2.385794\n",
      "27   Fairfield                2.369480\n",
      "28        Erie                2.367443\n",
      "29   Ashtabula                2.330163\n",
      "30    Highland                2.225152\n",
      "31      Warren                2.213323\n",
      "32      Seneca                2.135839\n",
      "33       Logan                2.052187\n",
      "34  Washington                1.708225\n",
      "35      Holmes                1.599277\n",
      "36       Wayne                1.555464\n",
      "37    Delaware                1.524858\n",
      "38    Clermont                1.436044\n",
      "39     Hancock                1.350559\n",
      "40       Huron                1.329742\n",
      "41        Lake                1.140279\n",
      "42      Medina                1.079370\n",
      "43    Defiance                0.981156\n",
      "44      Ottawa                0.765936\n",
      "45       Darke                0.649639\n",
      "46  Tuscarawas                0.537040\n",
      "47    Auglaize                0.366233\n",
      "48       Miami                0.245546\n",
      "49      Geauga                0.000000\n",
      "{'Portage': 10, 'Mahoning': 10, 'Ross': 10, 'Franklin': 10, 'Athens': 10, 'Scioto': 9, 'Richland': 9, 'Hamilton': 9, 'Lucas': 9, 'Lorain': 9, 'Pickaway': 8, 'Cuyahoga': 8, 'Greene': 8, 'Muskingum': 8, 'Marion': 8, 'Summit': 7, 'Allen': 7, 'Butler': 7, 'Montgomery': 7, 'Wood': 7, 'Columbiana': 6, 'Jackson': 6, 'Licking': 6, 'Clark': 6, 'Stark': 6, 'Belmont': 5, 'Trumbull': 5, 'Fairfield': 5, 'Erie': 5, 'Ashtabula': 5, 'Highland': 4, 'Warren': 4, 'Seneca': 4, 'Logan': 4, 'Washington': 4, 'Holmes': 3, 'Wayne': 3, 'Delaware': 3, 'Clermont': 3, 'Hancock': 3, 'Huron': 2, 'Lake': 2, 'Medina': 2, 'Defiance': 2, 'Ottawa': 2, 'Darke': 1, 'Tuscarawas': 1, 'Auglaize': 1, 'Miami': 1, 'Geauga': 1}\n",
      "50\n"
     ]
    }
   ],
   "source": [
    "import pandas as pd\n",
    "import numpy as np\n",
    "import pandas as pd\n",
    "import matplotlib.pyplot as plt\n",
    "import seaborn as sns\n",
    "\n",
    "# Read the CSV data\n",
    "df = pd.read_csv(\"irisk.csv\")\n",
    "\n",
    "# If there are duplicate counties (PUMA), take the mean of \"Predicted_ISRISKFACTOR\" for those counties\n",
    "df = df.groupby('PUMA').Predicted_ISRISKFACTOR.mean().reset_index()\n",
    "\n",
    "# Sort the DataFrame based on the \"Predicted_ISRISKFACTOR\"\n",
    "df = df.sort_values(by=\"Predicted_ISRISKFACTOR\", ascending=False).reset_index(drop=True)\n",
    "print(df)\n",
    "\n",
    "# Initialize the score map\n",
    "score_map = {county: 0 for county in df['PUMA']}\n",
    "decile_size = len(df) // 10\n",
    "# Apply the scoring algorithm\n",
    "for i, row in df.iterrows():\n",
    "    county = row['PUMA']\n",
    "    score_map[county] += (10 - i//decile_size)\n",
    "\n",
    "sorted_score = dict(sorted(score_map.items(), key=lambda item: item[1], reverse=True))\n",
    "\n",
    "print(sorted_score)\n",
    "print(len(score_map))"
   ]
  },
  {
   "cell_type": "code",
   "execution_count": 134,
   "metadata": {},
   "outputs": [
    {
     "name": "stdout",
     "output_type": "stream",
     "text": [
      "        County  Average Percent Performance Proficient or above\n",
      "0     Cuyahoga                                        16.419077\n",
      "1     Hamilton                                        15.567297\n",
      "2   Montgomery                                        13.869055\n",
      "3        Lucas                                        13.280052\n",
      "4     Franklin                                        12.840802\n",
      "..         ...                                              ...\n",
      "83      Gallia                                         1.100327\n",
      "84      Morgan                                         0.000000\n",
      "85      Monroe                                         0.000000\n",
      "86     Hocking                                         0.000000\n",
      "87      Vinton                                         0.000000\n",
      "\n",
      "[88 rows x 2 columns]\n",
      "\n",
      " 88\n",
      "{'Cuyahoga': 10, 'Hamilton': 10, 'Montgomery': 10, 'Lucas': 10, 'Franklin': 10, 'Mahoning': 10, 'Lorain': 10, 'Butler': 10, 'Allen': 9, 'Summit': 9, 'Stark': 9, 'Erie': 9, 'Lake': 9, 'Clark': 9, 'Greene': 9, 'Geauga': 9, 'Marion': 8, 'Crawford': 8, 'Seneca': 8, 'Richland': 8, 'Muskingum': 8, 'Portage': 8, 'Columbiana': 8, 'Trumbull': 8, 'Auglaize': 7, 'Shelby': 7, 'Athens': 7, 'Scioto': 7, 'Licking': 7, 'Defiance': 7, 'Mercer': 7, 'Van Wert': 7, 'Perry': 6, 'Miami': 6, 'Wood': 6, 'Darke': 6, 'Coshocton': 6, 'Holmes': 6, 'Champaign': 6, 'Warren': 6, 'Paulding': 5, 'Ashtabula': 5, 'Meigs': 5, 'Hancock': 5, 'Pickaway': 5, 'Ross': 5, 'Ottawa': 5, 'Jackson': 5, 'Madison': 4, 'Guernsey': 4, 'Tuscarawas': 4, 'Delaware': 4, 'Fayette': 4, 'Sandusky': 4, 'Fulton': 4, 'Hardin': 4, 'Noble': 3, 'Belmont': 3, 'Medina': 3, 'Putnam': 3, 'Washington': 3, 'Union': 3, 'Brown': 3, 'Lawrence': 3, 'Clinton': 2, 'Preble': 2, 'Knox': 2, 'Clermont': 2, 'Fairfield': 2, 'Morrow': 2, 'Jefferson': 2, 'Wayne': 2, 'Huron': 1, 'Highland': 1, 'Wyandot': 1, 'Logan': 1, 'Ashland': 1, 'Harrison': 1, 'Williams': 1, 'Pike': 1, 'Henry': 0, 'Carroll': 0, 'Adams': 0, 'Gallia': 0, 'Morgan': 0, 'Monroe': 0, 'Hocking': 0, 'Vinton': 0}\n"
     ]
    }
   ],
   "source": [
    "\n",
    "# Read the data from the provided CSV file\n",
    "df = pd.read_csv(\"22-23_Achievement_District.csv\")\n",
    "\n",
    "# If there are duplicate counties, compute the standard deviation of \"Average Percent Performance Proficient or above\"\n",
    "std_perf = df.groupby('County')['Average Percent Performance Proficient or above'].std().reset_index()\n",
    "\n",
    "# Handle NaN values (e.g., for counties with only one record, the standard deviation will be NaN)\n",
    "std_perf = std_perf.fillna(0)\n",
    "\n",
    "# Sort the DataFrame based on the standard deviation from highest to lowest\n",
    "std_perf = std_perf.sort_values(by=\"Average Percent Performance Proficient or above\", ascending=False).reset_index(drop=True)\n",
    "print(std_perf)\n",
    "\n",
    "# Initialize the score map\n",
    "score_ma = {county: 0 for county in std_perf['County']}\n",
    "\n",
    "# Calculate the number of counties per decile\n",
    "decile_size = len(std_perf) // 10\n",
    "\n",
    "# Apply the scoring algorithm\n",
    "for i, row in std_perf.iterrows():\n",
    "    county = row['County']\n",
    "    score_ma[county] = 10 - (i // decile_size)\n",
    "\n",
    "# Sort the score_map by its values\n",
    "sorted_score_map = dict(sorted(score_ma.items(), key=lambda item: item[1], reverse=True))\n",
    "print(\"\\n\",len(score_ma))\n",
    "\n",
    "print(sorted_score_map)\n",
    "\n",
    "\n",
    "\n"
   ]
  },
  {
   "cell_type": "code",
   "execution_count": 135,
   "metadata": {},
   "outputs": [],
   "source": [
    "ohio_counties = {\n",
    "    '001': 'Adams', '003': 'Allen', '005': 'Ashland', '007': 'Ashtabula', '009': 'Athens', \n",
    "    '011': 'Auglaize', '013': 'Belmont', '015': 'Brown', '017': 'Butler', '019': 'Carroll', \n",
    "    '021': 'Champaign', '023': 'Clark', '025': 'Clermont', '027': 'Clinton', '029': 'Columbiana', \n",
    "    '031': 'Coshocton', '033': 'Crawford', '035': 'Cuyahoga', '037': 'Darke', '039': 'Defiance', \n",
    "    '041': 'Delaware', '043': 'Erie', '045': 'Fairfield', '047': 'Fayette', '049': 'Franklin', \n",
    "    '051': 'Fulton', '053': 'Gallia', '055': 'Geauga', '057': 'Greene', '059': 'Guernsey', \n",
    "    '061': 'Hamilton', '063': 'Hancock', '065': 'Hardin', '067': 'Harrison', '069': 'Henry', \n",
    "    '071': 'Highland', '073': 'Hocking', '075': 'Holmes', '077': 'Huron', '079': 'Jackson', \n",
    "    '081': 'Jefferson', '083': 'Knox', '085': 'Lake', '087': 'Lawrence', '089': 'Licking', \n",
    "    '091': 'Logan', '093': 'Lorain', '095': 'Lucas', '097': 'Madison', '099': 'Mahoning', \n",
    "    '101': 'Marion', '103': 'Medina', '105': 'Meigs', '107': 'Mercer', '109': 'Miami', \n",
    "    '111': 'Monroe', '113': 'Montgomery', '115': 'Morgan', '117': 'Morrow', '119': 'Muskingum', \n",
    "    '121': 'Noble', '123': 'Ottawa', '125': 'Paulding', '127': 'Perry', '129': 'Pickaway', \n",
    "    '131': 'Pike', '133': 'Portage', '135': 'Preble', '137': 'Putnam', '139': 'Richland', \n",
    "    '141': 'Ross', '143': 'Sandusky', '145': 'Scioto', '147': 'Seneca', '149': 'Shelby', \n",
    "    '151': 'Stark', '153': 'Summit', '155': 'Trumbull', '157': 'Tuscarawas', '159': 'Union', \n",
    "    '161': 'Van Wert', '163': 'Vinton', '165': 'Warren', '167': 'Washington', '169': 'Wayne', \n",
    "    '171': 'Williams', '173': 'Wood', '175': 'Wyandot'\n",
    "}\n",
    "\n",
    "df = pd.read_csv(\"HOME_IncomeLmts_Natl_2023_1.csv\", dtype={'FIPS County Code': str})\n",
    "df = df.drop(index=df.index[len(df) - 3:])\n"
   ]
  },
  {
   "cell_type": "code",
   "execution_count": 136,
   "metadata": {},
   "outputs": [
    {
     "data": {
      "text/plain": [
       "Index(['FIPS County Code', 'medinc_23p2', 'medinc_23p3', 'medinc_23p4'], dtype='object')"
      ]
     },
     "execution_count": 136,
     "metadata": {},
     "output_type": "execute_result"
    }
   ],
   "source": [
    "df.columns\n"
   ]
  },
  {
   "cell_type": "code",
   "execution_count": 137,
   "metadata": {},
   "outputs": [
    {
     "data": {
      "text/plain": [
       "(4761,)"
      ]
     },
     "execution_count": 137,
     "metadata": {},
     "output_type": "execute_result"
    }
   ],
   "source": [
    "df['FIPS County Code'].shape\n"
   ]
  },
  {
   "cell_type": "code",
   "execution_count": 138,
   "metadata": {},
   "outputs": [
    {
     "name": "stdout",
     "output_type": "stream",
     "text": [
      "   County Name   medinc_23p2   medinc_23p3    medinc_23p4\n",
      "0        Adams  81476.691729  91648.120301  101796.992481\n",
      "1        Allen  72711.059908  81805.529954   90840.552995\n",
      "2      Ashland  80473.780488  90532.317073  100540.853659\n",
      "3    Ashtabula  77235.329341  86889.820359   96503.592814\n",
      "4       Athens  81215.492958  91364.788732  101479.812207\n",
      "..         ...           ...           ...            ...\n",
      "83  Washington  64985.714286  73100.000000   81178.571429\n",
      "84       Wayne  65200.000000  73350.000000   81450.000000\n",
      "85    Williams  64792.857143  72885.714286   80942.857143\n",
      "86        Wood  64078.571429  72078.571429   80050.000000\n",
      "87     Wyandot  60653.846154  68223.076923   75769.230769\n",
      "\n",
      "[88 rows x 4 columns]\n",
      "   County Name   medinc_23p2   medinc_23p3    medinc_23p4  median_income  \\\n",
      "0        Adams  81476.691729  91648.120301  101796.992481   91648.120301   \n",
      "1        Allen  72711.059908  81805.529954   90840.552995   81805.529954   \n",
      "2      Ashland  80473.780488  90532.317073  100540.853659   90532.317073   \n",
      "3    Ashtabula  77235.329341  86889.820359   96503.592814   86889.820359   \n",
      "4       Athens  81215.492958  91364.788732  101479.812207   91364.788732   \n",
      "..         ...           ...           ...            ...            ...   \n",
      "83  Washington  64985.714286  73100.000000   81178.571429   73100.000000   \n",
      "84       Wayne  65200.000000  73350.000000   81450.000000   73350.000000   \n",
      "85    Williams  64792.857143  72885.714286   80942.857143   72885.714286   \n",
      "86        Wood  64078.571429  72078.571429   80050.000000   72078.571429   \n",
      "87     Wyandot  60653.846154  68223.076923   75769.230769   68223.076923   \n",
      "\n",
      "    relative_intensity  \n",
      "0             0.875614  \n",
      "1             0.520384  \n",
      "2             0.835344  \n",
      "3             0.703882  \n",
      "4             0.865389  \n",
      "..                 ...  \n",
      "83            0.206191  \n",
      "84            0.215213  \n",
      "85            0.198457  \n",
      "86            0.169326  \n",
      "87            0.030177  \n",
      "\n",
      "[88 rows x 6 columns]\n",
      "0     0.875614\n",
      "1     0.520384\n",
      "2     0.835344\n",
      "3     0.703882\n",
      "4     0.865389\n",
      "        ...   \n",
      "83    0.206191\n",
      "84    0.215213\n",
      "85    0.198457\n",
      "86    0.169326\n",
      "87    0.030177\n",
      "Name: relative_intensity, Length: 88, dtype: float64\n"
     ]
    }
   ],
   "source": [
    "# Map the 'FIPS County Code' to its respective county name using the ohio_counties dictionary\n",
    "df['FIPS County Code'] = df['FIPS County Code'].map(ohio_counties)\n",
    "\n",
    "# Rename the column for clarity\n",
    "df.rename(columns={'FIPS County Code': 'County Name'}, inplace=True)\n",
    "county_medianIncome = df.groupby(['County Name'], as_index = False).mean()\n",
    "print(county_medianIncome)\n",
    "county_medianIncome['median_income'] = county_medianIncome[['medinc_23p2', 'medinc_23p3', 'medinc_23p4']].median(axis=1)\n",
    "\n",
    "# Min-max scale the median_income to get relative intensity\n",
    "min_value = county_medianIncome['median_income'].min()\n",
    "max_value = county_medianIncome['median_income'].max()\n",
    "county_medianIncome['relative_intensity'] = (county_medianIncome['median_income'] - min_value) / (max_value - min_value)\n",
    "\n",
    "print(county_medianIncome)\n",
    "print(county_medianIncome['relative_intensity'])\n",
    "\n"
   ]
  },
  {
   "cell_type": "code",
   "execution_count": 139,
   "metadata": {},
   "outputs": [
    {
     "name": "stdout",
     "output_type": "stream",
     "text": [
      "   County Name   medinc_23p2   medinc_23p3    medinc_23p4  median_income  \\\n",
      "0       Butler  84541.818182  95094.545455  105604.848485   95094.545455   \n",
      "1        Adams  81476.691729  91648.120301  101796.992481   91648.120301   \n",
      "2       Athens  81215.492958  91364.788732  101479.812207   91364.788732   \n",
      "3        Brown  80551.034483  90623.448276  100638.620690   90623.448276   \n",
      "4      Ashland  80473.780488  90532.317073  100540.853659   90532.317073   \n",
      "..         ...           ...           ...            ...            ...   \n",
      "83    Sandusky  60494.736842  68063.157895   75573.684211   68063.157895   \n",
      "84       Perry  60344.000000  67880.000000   75372.000000   67880.000000   \n",
      "85        Ross  60265.000000  67790.000000   75285.000000   67790.000000   \n",
      "86     Portage  60078.260870  67586.956522   75043.478261   67586.956522   \n",
      "87        Pike  59908.695652  67386.956522   74834.782609   67386.956522   \n",
      "\n",
      "    relative_intensity  \n",
      "0             1.000000  \n",
      "1             0.875614  \n",
      "2             0.865389  \n",
      "3             0.838633  \n",
      "4             0.835344  \n",
      "..                 ...  \n",
      "83            0.024405  \n",
      "84            0.017795  \n",
      "85            0.014546  \n",
      "86            0.007218  \n",
      "87            0.000000  \n",
      "\n",
      "[88 rows x 6 columns]\n",
      "{'Butler': 10, 'Adams': 10, 'Athens': 10, 'Brown': 10, 'Ashland': 10, 'Auglaize': 10, 'Clark': 10, 'Champaign': 10, 'Belmont': 9, 'Clinton': 9, 'Ashtabula': 9, 'Coshocton': 9, 'Allen': 9, 'Darke': 9, 'Guernsey': 9, 'Lake': 9, 'Clermont': 8, 'Carroll': 8, 'Medina': 8, 'Lawrence': 8, 'Hamilton': 8, 'Lorain': 8, 'Jefferson': 8, 'Delaware': 8, 'Crawford': 7, 'Montgomery': 7, 'Tuscarawas': 7, 'Warren': 7, 'Erie': 7, 'Licking': 7, 'Cuyahoga': 7, 'Madison': 7, 'Hocking': 6, 'Defiance': 6, 'Wayne': 6, 'Union': 6, 'Fairfield': 6, 'Logan': 6, 'Gallia': 6, 'Washington': 6, 'Fulton': 5, 'Vinton': 5, 'Williams': 5, 'Huron': 5, 'Fayette': 5, 'Jackson': 5, 'Summit': 5, 'Shelby': 5, 'Geauga': 4, 'Lucas': 4, 'Hancock': 4, 'Van Wert': 4, 'Highland': 4, 'Mahoning': 4, 'Knox': 4, 'Miami': 4, 'Marion': 3, 'Greene': 3, 'Wood': 3, 'Muskingum': 3, 'Franklin': 3, 'Morrow': 3, 'Harrison': 3, 'Monroe': 3, 'Richland': 2, 'Henry': 2, 'Paulding': 2, 'Holmes': 2, 'Mercer': 2, 'Noble': 2, 'Columbiana': 2, 'Morgan': 2, 'Hardin': 1, 'Pickaway': 1, 'Meigs': 1, 'Stark': 1, 'Trumbull': 1, 'Scioto': 1, 'Preble': 1, 'Seneca': 1, 'Ottawa': 0, 'Putnam': 0, 'Wyandot': 0, 'Sandusky': 0, 'Perry': 0, 'Ross': 0, 'Portage': 0, 'Pike': 0}\n"
     ]
    }
   ],
   "source": [
    "county_medianIncome = county_medianIncome.sort_values(by=\"relative_intensity\", ascending=False).reset_index(drop=True)\n",
    "print(county_medianIncome)\n",
    "score_income = {county: 0 for county in county_medianIncome['County Name']}\n",
    "\n",
    "# Calculate the number of counties per decile\n",
    "decile_size = len(std_perf) // 10\n",
    "\n",
    "# Apply the scoring algorithm\n",
    "for i, row in county_medianIncome.iterrows():\n",
    "    county = row['County Name']\n",
    "    score_income[county] = 10 - (i // decile_size)\n",
    "sortedInc = dict(sorted(score_income.items(), key=lambda item: item[1], reverse=True))\n",
    "\n",
    "print(sortedInc)"
   ]
  },
  {
   "cell_type": "code",
   "execution_count": 140,
   "metadata": {},
   "outputs": [
    {
     "name": "stdout",
     "output_type": "stream",
     "text": [
      "{'Athens': 27, 'Hamilton': 27, 'Lorain': 27, 'Butler': 27, 'Cuyahoga': 25, 'Allen': 25, 'Clark': 25, 'Mahoning': 24, 'Montgomery': 24, 'Franklin': 23, 'Lucas': 23, 'Summit': 21, 'Erie': 21, 'Greene': 20, 'Licking': 20, 'Lake': 20, 'Richland': 19, 'Muskingum': 19, 'Marion': 19, 'Ashtabula': 19, 'Portage': 18, 'Auglaize': 18, 'Scioto': 17, 'Belmont': 17, 'Warren': 17, 'Wood': 16, 'Columbiana': 16, 'Jackson': 16, 'Stark': 16, 'Darke': 16, 'Ross': 15, 'Delaware': 15, 'Defiance': 15, 'Pickaway': 14, 'Trumbull': 14, 'Geauga': 14, 'Fairfield': 13, 'Seneca': 13, 'Washington': 13, 'Clermont': 13, 'Medina': 13, 'Hancock': 12, 'Tuscarawas': 12, 'Logan': 11, 'Holmes': 11, 'Wayne': 11, 'Miami': 11, 'Highland': 9, 'Huron': 8, 'Ottawa': 7}\n"
     ]
    }
   ],
   "source": [
    "# Combining the score maps\n",
    "total = {}\n",
    "for key in score_map:\n",
    "    total[key] = (score_map[key] + score_ma[key] + score_income[key])\n",
    "sortedTotal = dict(sorted(total.items(), key=lambda item: item[1], reverse=True))\n",
    "\n",
    "print(sortedTotal)"
   ]
  }
 ],
 "metadata": {
  "kernelspec": {
   "display_name": "Python 3",
   "language": "python",
   "name": "python3"
  },
  "language_info": {
   "codemirror_mode": {
    "name": "ipython",
    "version": 3
   },
   "file_extension": ".py",
   "mimetype": "text/x-python",
   "name": "python",
   "nbconvert_exporter": "python",
   "pygments_lexer": "ipython3",
   "version": "3.10.12"
  },
  "orig_nbformat": 4
 },
 "nbformat": 4,
 "nbformat_minor": 2
}
